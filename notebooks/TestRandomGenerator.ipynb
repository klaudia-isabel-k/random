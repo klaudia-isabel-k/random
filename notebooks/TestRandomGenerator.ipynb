{
 "cells": [
  {
   "cell_type": "code",
   "execution_count": 5,
   "id": "c96b876d",
   "metadata": {},
   "outputs": [],
   "source": [
    "import seaborn as sns\n",
    "\n",
    "import sys\n",
    "import os\n",
    "sys.path.insert(0, os.path.abspath(os.path.join(os.getcwd(), '..')))\n",
    "from calculators import rndGenerator"
   ]
  },
  {
   "cell_type": "code",
   "execution_count": 2,
   "id": "52563aa7",
   "metadata": {},
   "outputs": [],
   "source": [
    "generator = rndGenerator.rndGenerator()"
   ]
  },
  {
   "cell_type": "code",
   "execution_count": 18,
   "id": "0cc57e85",
   "metadata": {},
   "outputs": [],
   "source": [
    "generator.linearCongruential(100000)"
   ]
  },
  {
   "cell_type": "code",
   "execution_count": 19,
   "id": "2086562b",
   "metadata": {},
   "outputs": [
    {
     "data": {
      "text/plain": [
       "array([0.35216555, 0.40440819, 0.66206277, ..., 0.84530816, 0.56870533,\n",
       "       0.57803134])"
      ]
     },
     "execution_count": 19,
     "metadata": {},
     "output_type": "execute_result"
    }
   ],
   "source": [
    "generator.numbers"
   ]
  },
  {
   "cell_type": "code",
   "execution_count": 20,
   "id": "d6dc73d7",
   "metadata": {},
   "outputs": [
    {
     "data": {
      "text/plain": [
       "<AxesSubplot:ylabel='Density'>"
      ]
     },
     "execution_count": 20,
     "metadata": {},
     "output_type": "execute_result"
    },
    {
     "data": {
      "image/png": "[encoded data removed]",
      "text/plain": [
       "<Figure size 432x288 with 1 Axes>"
      ]
     },
     "metadata": {
      "needs_background": "light"
     },
     "output_type": "display_data"
    }
   ],
   "source": [
    "sns.histplot(generator.numbers, stat=\"density\")"
   ]
  },
  {
   "cell_type": "markdown",
   "id": "b22d9070",
   "metadata": {},
   "source": [
    "The histogram"
   ]
  },
  {
   "cell_type": "code",
   "execution_count": 21,
   "id": "a6423f2c",
   "metadata": {
    "scrolled": true
   },
   "outputs": [
    {
     "data": {
      "text/plain": [
       "0.499912313408996"
      ]
     },
     "execution_count": 21,
     "metadata": {},
     "output_type": "execute_result"
    }
   ],
   "source": [
    "generator.numbers.mean()"
   ]
  },
  {
   "cell_type": "code",
   "execution_count": 22,
   "id": "57e367d5",
   "metadata": {},
   "outputs": [
    {
     "data": {
      "text/plain": [
       "0.08323012842986326"
      ]
     },
     "execution_count": 22,
     "metadata": {},
     "output_type": "execute_result"
    }
   ],
   "source": [
    "generator.numbers.var()"
   ]
  },
  {
   "cell_type": "markdown",
   "id": "a8b062d9",
   "metadata": {},
   "source": [
    "Values are as expected. Mean is close to 0.5, variance close to 1/12."
   ]
  }
 ],
 "metadata": {
  "kernelspec": {
   "display_name": "Python 3 (ipykernel)",
   "language": "python",
   "name": "python3"
  },
  "language_info": {
   "codemirror_mode": {
    "name": "ipython",
    "version": 3
   },
   "file_extension": ".py",
   "mimetype": "text/x-python",
   "name": "python",
   "nbconvert_exporter": "python",
   "pygments_lexer": "ipython3",
   "version": "3.9.7"
  }
 },
 "nbformat": 4,
 "nbformat_minor": 5
}
